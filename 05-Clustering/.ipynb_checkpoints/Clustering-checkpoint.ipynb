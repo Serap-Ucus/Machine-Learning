{
 "cells": [
  {
   "cell_type": "markdown",
   "id": "e907deca-831f-4765-ae63-751c01b9222f",
   "metadata": {},
   "source": [
    "The dataset that we’re going to use has been obtained from the machine learning repository of University of California Irvine. It is about live selling, which means demonstrating and selling items through a live stream, typically on social media. Each row shows one product. To understand the links between products and customers, we will use a variety of reactions, the number of comments, and the number of shares to a Facebook post. In total, there are 13 features. Let’s start with loading the dataset."
   ]
  },
  {
   "cell_type": "code",
   "execution_count": 28,
   "id": "b69b146b-c03f-45f9-b2c0-6301c6e1fc15",
   "metadata": {},
   "outputs": [],
   "source": [
    "import pandas as pd\n",
    "dataset = pd.read_csv('Live.csv')"
   ]
  },
  {
   "cell_type": "code",
   "execution_count": 29,
   "id": "e6ce0c2d-75a4-4c97-b14f-abd1e8a2ca1d",
   "metadata": {},
   "outputs": [
    {
     "data": {
      "text/html": [
       "<div>\n",
       "<style scoped>\n",
       "    .dataframe tbody tr th:only-of-type {\n",
       "        vertical-align: middle;\n",
       "    }\n",
       "\n",
       "    .dataframe tbody tr th {\n",
       "        vertical-align: top;\n",
       "    }\n",
       "\n",
       "    .dataframe thead th {\n",
       "        text-align: right;\n",
       "    }\n",
       "</style>\n",
       "<table border=\"1\" class=\"dataframe\">\n",
       "  <thead>\n",
       "    <tr style=\"text-align: right;\">\n",
       "      <th></th>\n",
       "      <th>num_reactions</th>\n",
       "      <th>num_comments</th>\n",
       "      <th>num_shares</th>\n",
       "      <th>num_likes</th>\n",
       "      <th>num_loves</th>\n",
       "      <th>num_wows</th>\n",
       "      <th>num_hahas</th>\n",
       "      <th>num_sads</th>\n",
       "      <th>num_angrys</th>\n",
       "      <th>status_type_link</th>\n",
       "      <th>status_type_photo</th>\n",
       "      <th>status_type_status</th>\n",
       "      <th>status_type_video</th>\n",
       "    </tr>\n",
       "  </thead>\n",
       "  <tbody>\n",
       "    <tr>\n",
       "      <th>0</th>\n",
       "      <td>0.112314</td>\n",
       "      <td>0.024393</td>\n",
       "      <td>0.076519</td>\n",
       "      <td>0.091720</td>\n",
       "      <td>0.140030</td>\n",
       "      <td>0.010791</td>\n",
       "      <td>0.006369</td>\n",
       "      <td>0.019608</td>\n",
       "      <td>0.0</td>\n",
       "      <td>0.0</td>\n",
       "      <td>0.0</td>\n",
       "      <td>0.0</td>\n",
       "      <td>1.0</td>\n",
       "    </tr>\n",
       "    <tr>\n",
       "      <th>1</th>\n",
       "      <td>0.031847</td>\n",
       "      <td>0.000000</td>\n",
       "      <td>0.000000</td>\n",
       "      <td>0.031847</td>\n",
       "      <td>0.000000</td>\n",
       "      <td>0.000000</td>\n",
       "      <td>0.000000</td>\n",
       "      <td>0.000000</td>\n",
       "      <td>0.0</td>\n",
       "      <td>0.0</td>\n",
       "      <td>1.0</td>\n",
       "      <td>0.0</td>\n",
       "      <td>0.0</td>\n",
       "    </tr>\n",
       "    <tr>\n",
       "      <th>2</th>\n",
       "      <td>0.048195</td>\n",
       "      <td>0.011243</td>\n",
       "      <td>0.016647</td>\n",
       "      <td>0.043312</td>\n",
       "      <td>0.031963</td>\n",
       "      <td>0.003597</td>\n",
       "      <td>0.006369</td>\n",
       "      <td>0.000000</td>\n",
       "      <td>0.0</td>\n",
       "      <td>0.0</td>\n",
       "      <td>0.0</td>\n",
       "      <td>0.0</td>\n",
       "      <td>1.0</td>\n",
       "    </tr>\n",
       "    <tr>\n",
       "      <th>3</th>\n",
       "      <td>0.023567</td>\n",
       "      <td>0.000000</td>\n",
       "      <td>0.000000</td>\n",
       "      <td>0.023567</td>\n",
       "      <td>0.000000</td>\n",
       "      <td>0.000000</td>\n",
       "      <td>0.000000</td>\n",
       "      <td>0.000000</td>\n",
       "      <td>0.0</td>\n",
       "      <td>0.0</td>\n",
       "      <td>1.0</td>\n",
       "      <td>0.0</td>\n",
       "      <td>0.0</td>\n",
       "    </tr>\n",
       "    <tr>\n",
       "      <th>4</th>\n",
       "      <td>0.045223</td>\n",
       "      <td>0.000000</td>\n",
       "      <td>0.000000</td>\n",
       "      <td>0.043312</td>\n",
       "      <td>0.013699</td>\n",
       "      <td>0.000000</td>\n",
       "      <td>0.000000</td>\n",
       "      <td>0.000000</td>\n",
       "      <td>0.0</td>\n",
       "      <td>0.0</td>\n",
       "      <td>1.0</td>\n",
       "      <td>0.0</td>\n",
       "      <td>0.0</td>\n",
       "    </tr>\n",
       "  </tbody>\n",
       "</table>\n",
       "</div>"
      ],
      "text/plain": [
       "   num_reactions  num_comments  num_shares  num_likes  num_loves  num_wows  \\\n",
       "0       0.112314      0.024393    0.076519   0.091720   0.140030  0.010791   \n",
       "1       0.031847      0.000000    0.000000   0.031847   0.000000  0.000000   \n",
       "2       0.048195      0.011243    0.016647   0.043312   0.031963  0.003597   \n",
       "3       0.023567      0.000000    0.000000   0.023567   0.000000  0.000000   \n",
       "4       0.045223      0.000000    0.000000   0.043312   0.013699  0.000000   \n",
       "\n",
       "   num_hahas  num_sads  num_angrys  status_type_link  status_type_photo  \\\n",
       "0   0.006369  0.019608         0.0               0.0                0.0   \n",
       "1   0.000000  0.000000         0.0               0.0                1.0   \n",
       "2   0.006369  0.000000         0.0               0.0                0.0   \n",
       "3   0.000000  0.000000         0.0               0.0                1.0   \n",
       "4   0.000000  0.000000         0.0               0.0                1.0   \n",
       "\n",
       "   status_type_status  status_type_video  \n",
       "0                 0.0                1.0  \n",
       "1                 0.0                0.0  \n",
       "2                 0.0                1.0  \n",
       "3                 0.0                0.0  \n",
       "4                 0.0                0.0  "
      ]
     },
     "execution_count": 29,
     "metadata": {},
     "output_type": "execute_result"
    }
   ],
   "source": [
    "dataset.head()"
   ]
  },
  {
   "cell_type": "code",
   "execution_count": 30,
   "id": "57eb3e95-bac0-43ad-ad8a-4b7dc4cf39db",
   "metadata": {},
   "outputs": [],
   "source": [
    "from sklearn.cluster import KMeans"
   ]
  },
  {
   "cell_type": "code",
   "execution_count": 31,
   "id": "3563dd9d-fd2a-4134-9d7f-b456e4c101b8",
   "metadata": {},
   "outputs": [],
   "source": [
    "model = KMeans(n_clusters=3)"
   ]
  },
  {
   "cell_type": "code",
   "execution_count": 32,
   "id": "1a420a91-bc22-4049-b85e-aa1951c848bd",
   "metadata": {},
   "outputs": [
    {
     "data": {
      "text/plain": [
       "KMeans(n_clusters=3)"
      ]
     },
     "execution_count": 32,
     "metadata": {},
     "output_type": "execute_result"
    }
   ],
   "source": [
    "model.fit(dataset)"
   ]
  },
  {
   "cell_type": "code",
   "execution_count": 33,
   "id": "e074fa88-f5f1-4f57-b920-0739cf2c0d1a",
   "metadata": {},
   "outputs": [
    {
     "data": {
      "text/plain": [
       "array([2, 1, 2, ..., 1, 1, 1])"
      ]
     },
     "execution_count": 33,
     "metadata": {},
     "output_type": "execute_result"
    }
   ],
   "source": [
    "labels = model.predict(dataset)\n",
    "labels"
   ]
  },
  {
   "cell_type": "code",
   "execution_count": 34,
   "id": "8467e6e6-d5c1-4807-9b64-344631a5267f",
   "metadata": {},
   "outputs": [],
   "source": [
    "import numpy as np"
   ]
  },
  {
   "cell_type": "code",
   "execution_count": 35,
   "id": "b3051e6f-6f9d-4b97-bd3b-73220dad5d6f",
   "metadata": {},
   "outputs": [
    {
     "data": {
      "text/plain": [
       "(array([0, 1, 2]), array([ 428, 4288, 2334], dtype=int64))"
      ]
     },
     "execution_count": 35,
     "metadata": {},
     "output_type": "execute_result"
    }
   ],
   "source": [
    "np.unique(labels, return_counts=True)"
   ]
  },
  {
   "cell_type": "code",
   "execution_count": 36,
   "id": "e8e4aedb-2229-47b3-8274-be611f1c95a7",
   "metadata": {},
   "outputs": [],
   "source": [
    "from sklearn.metrics import silhouette_score\n",
    "import matplotlib.pyplot as plt"
   ]
  },
  {
   "cell_type": "code",
   "execution_count": 37,
   "id": "8f150383-c4f9-4681-bfb4-5e1a1a5ead0f",
   "metadata": {},
   "outputs": [],
   "source": [
    "silhouettes = []\n",
    "ks = list(range(2,12))"
   ]
  },
  {
   "cell_type": "code",
   "execution_count": 38,
   "id": "bb5b972c-360e-4ff8-bfda-4582a9a7b539",
   "metadata": {},
   "outputs": [
    {
     "data": {
      "text/plain": [
       "[2, 3, 4, 5, 6, 7, 8, 9, 10, 11]"
      ]
     },
     "execution_count": 38,
     "metadata": {},
     "output_type": "execute_result"
    }
   ],
   "source": [
    "ks"
   ]
  },
  {
   "cell_type": "code",
   "execution_count": 39,
   "id": "5553d764-f1d4-4330-be21-9978787dd1c4",
   "metadata": {},
   "outputs": [
    {
     "name": "stdout",
     "output_type": "stream",
     "text": [
      "For n clusters=2, The Silhouette Coefficient is 0.8188237721696822\n",
      "For n clusters=3, The Silhouette Coefficient is 0.8972493682244883\n",
      "For n clusters=4, The Silhouette Coefficient is 0.9106664962327088\n",
      "For n clusters=5, The Silhouette Coefficient is 0.8866768371183754\n",
      "For n clusters=6, The Silhouette Coefficient is 0.8430118288915796\n",
      "For n clusters=7, The Silhouette Coefficient is 0.8419421782294257\n",
      "For n clusters=8, The Silhouette Coefficient is 0.7651231821104032\n",
      "For n clusters=9, The Silhouette Coefficient is 0.7601867631720509\n",
      "For n clusters=10, The Silhouette Coefficient is 0.7270134375055539\n",
      "For n clusters=11, The Silhouette Coefficient is 0.7058588220163878\n"
     ]
    }
   ],
   "source": [
    "for n_cluster in ks:\n",
    "    kmeans = KMeans(n_clusters = n_cluster).fit(dataset)\n",
    "    label = kmeans.labels_\n",
    "    sil_coeff = silhouette_score(dataset, label, metric='euclidean')\n",
    "    print('For n clusters={}, The Silhouette Coefficient is {}'.format(n_cluster, sil_coeff))\n",
    "    silhouettes.append(sil_coeff)"
   ]
  },
  {
   "cell_type": "code",
   "execution_count": 40,
   "id": "2938bd5f-cc35-4410-9a48-359a3c1cbbb3",
   "metadata": {},
   "outputs": [],
   "source": [
    "import matplotlib.pyplot as plt"
   ]
  },
  {
   "cell_type": "code",
   "execution_count": 41,
   "id": "a8e6c4a4-9df9-42f0-9070-3aeec53c3b2d",
   "metadata": {},
   "outputs": [
    {
     "data": {
      "text/plain": [
       "Text(0, 0.5, 'Silhouette score')"
      ]
     },
     "execution_count": 41,
     "metadata": {},
     "output_type": "execute_result"
    },
    {
     "data": {
      "image/png": "[encoded data removed]",
      "text/plain": [
       "<Figure size 864x576 with 1 Axes>"
      ]
     },
     "metadata": {
      "needs_background": "light"
     },
     "output_type": "display_data"
    }
   ],
   "source": [
    "plt.figure(figsize=(12,8))\n",
    "plt.subplot(211)\n",
    "plt.scatter(ks, silhouettes, marker='x', c='r')\n",
    "plt.plot(ks, silhouettes)\n",
    "plt.xlabel('k')\n",
    "plt.ylabel('Silhouette score')"
   ]
  },
  {
   "cell_type": "markdown",
   "id": "c694a589-30ad-4b86-b74b-eedaf03e7e8b",
   "metadata": {},
   "source": [
    "En yüksek Silhouette score k = 4"
   ]
  },
  {
   "cell_type": "code",
   "execution_count": 42,
   "id": "ccb2e487-88ca-4e8d-b490-25579d554919",
   "metadata": {},
   "outputs": [
    {
     "data": {
      "text/plain": [
       "(array([0, 1, 2, 3]), array([ 365, 4288, 2334,   63], dtype=int64))"
      ]
     },
     "execution_count": 42,
     "metadata": {},
     "output_type": "execute_result"
    }
   ],
   "source": [
    "from sklearn.cluster import KMeans\n",
    "model = KMeans(n_clusters = 4)\n",
    "model.fit(dataset)\n",
    "labels = model.predict(dataset)\n",
    "import numpy as np\n",
    "np.unique(labels, return_counts=True)"
   ]
  },
  {
   "cell_type": "code",
   "execution_count": 43,
   "id": "fc46c73a-cb95-459a-9686-605a48d45e32",
   "metadata": {},
   "outputs": [
    {
     "data": {
      "text/plain": [
       "1    4288\n",
       "2    2334\n",
       "0     365\n",
       "3      63\n",
       "Name: labels, dtype: int64"
      ]
     },
     "execution_count": 43,
     "metadata": {},
     "output_type": "execute_result"
    }
   ],
   "source": [
    "dataset['labels'] = labels\n",
    "dataset['labels'].value_counts()"
   ]
  },
  {
   "cell_type": "markdown",
   "id": "809292c1-ad85-42ec-858c-08e791c9ccd3",
   "metadata": {},
   "source": [
    "num_comments"
   ]
  },
  {
   "cell_type": "code",
   "execution_count": 44,
   "id": "d964ce96-15fc-4fbe-962f-2b54e7e8669a",
   "metadata": {},
   "outputs": [
    {
     "data": {
      "text/plain": [
       "0.001726458130747155"
      ]
     },
     "execution_count": 44,
     "metadata": {},
     "output_type": "execute_result"
    }
   ],
   "source": [
    "group_zero = dataset[dataset['labels'] == 0]['num_comments'].mean()\n",
    "group_zero"
   ]
  },
  {
   "cell_type": "code",
   "execution_count": 45,
   "id": "04eabf00-09ab-4ab7-a8e0-ba07dcf31d5e",
   "metadata": {},
   "outputs": [
    {
     "data": {
      "text/plain": [
       "0.0007619566531325929"
      ]
     },
     "execution_count": 45,
     "metadata": {},
     "output_type": "execute_result"
    }
   ],
   "source": [
    "group_one = dataset[dataset['labels'] == 1]['num_comments'].mean()\n",
    "group_one"
   ]
  },
  {
   "cell_type": "code",
   "execution_count": 46,
   "id": "2d024421-a345-4b3f-b478-b31dbb6891ba",
   "metadata": {},
   "outputs": [
    {
     "data": {
      "text/plain": [
       "0.030608773182480085"
      ]
     },
     "execution_count": 46,
     "metadata": {},
     "output_type": "execute_result"
    }
   ],
   "source": [
    "group_two = dataset[dataset['labels'] == 2]['num_comments'].mean()\n",
    "group_two"
   ]
  },
  {
   "cell_type": "code",
   "execution_count": 47,
   "id": "50d3c0eb-dd9b-41e2-8532-7a6ab9d0ab9e",
   "metadata": {},
   "outputs": [
    {
     "data": {
      "text/plain": [
       "0.00027148226290672734"
      ]
     },
     "execution_count": 47,
     "metadata": {},
     "output_type": "execute_result"
    }
   ],
   "source": [
    "group_three = dataset[dataset['labels'] == 3]['num_comments'].mean()\n",
    "group_three"
   ]
  },
  {
   "cell_type": "markdown",
   "id": "8c3d4109-6418-47c3-b80e-fd8b6623b6d2",
   "metadata": {},
   "source": [
    "num_shares"
   ]
  },
  {
   "cell_type": "code",
   "execution_count": 48,
   "id": "87e9f951-a0c9-4f06-b924-499f57925bc3",
   "metadata": {},
   "outputs": [
    {
     "data": {
      "text/plain": [
       "0.0007473434899500516"
      ]
     },
     "execution_count": 48,
     "metadata": {},
     "output_type": "execute_result"
    }
   ],
   "source": [
    "group_zero = dataset[dataset['labels'] == 0]['num_shares'].mean()\n",
    "group_zero"
   ]
  },
  {
   "cell_type": "code",
   "execution_count": 49,
   "id": "e9dce926-5da2-4ae2-ae48-6e169f441e20",
   "metadata": {},
   "outputs": [
    {
     "data": {
      "text/plain": [
       "0.000745873618182425"
      ]
     },
     "execution_count": 49,
     "metadata": {},
     "output_type": "execute_result"
    }
   ],
   "source": [
    "group_one = dataset[dataset['labels'] == 1]['num_shares'].mean()\n",
    "group_one"
   ]
  },
  {
   "cell_type": "code",
   "execution_count": 50,
   "id": "8bbaa042-6d0c-43af-9b94-e8ecc8b03541",
   "metadata": {},
   "outputs": [
    {
     "data": {
      "text/plain": [
       "0.03378503171323544"
      ]
     },
     "execution_count": 50,
     "metadata": {},
     "output_type": "execute_result"
    }
   ],
   "source": [
    "group_two = dataset[dataset['labels'] == 2]['num_shares'].mean()\n",
    "group_two"
   ]
  },
  {
   "cell_type": "code",
   "execution_count": 51,
   "id": "f0f76e9e-a441-410f-a024-ad1e90130839",
   "metadata": {},
   "outputs": [
    {
     "data": {
      "text/plain": [
       "0.001284119566829823"
      ]
     },
     "execution_count": 51,
     "metadata": {},
     "output_type": "execute_result"
    }
   ],
   "source": [
    "group_three = dataset[dataset['labels'] == 3]['num_shares'].mean()\n",
    "group_three"
   ]
  },
  {
   "cell_type": "code",
   "execution_count": null,
   "id": "e892d2fa-a4d5-4b87-a558-4e5cc7ae196e",
   "metadata": {},
   "outputs": [],
   "source": []
  },
  {
   "cell_type": "code",
   "execution_count": 53,
   "id": "745a0b86-80ee-4c1e-9c2c-eab39cf74a69",
   "metadata": {},
   "outputs": [],
   "source": [
    "status_type = dataset[['status_type_photo', 'status_type_video', 'status_type_status']].idxmax(axis=1)\n",
    "dataset = pd.concat([dataset['labels'], status_type.rename('status_type')], axis=1)"
   ]
  },
  {
   "cell_type": "code",
   "execution_count": 55,
   "id": "085afee9-b13d-4f33-9fb3-efd4aba48e7c",
   "metadata": {},
   "outputs": [
    {
     "data": {
      "text/plain": [
       "labels  status_type       \n",
       "0       status_type_status     365\n",
       "1       status_type_photo     4288\n",
       "2       status_type_video     2334\n",
       "3       status_type_photo       63\n",
       "Name: status_type, dtype: int64"
      ]
     },
     "execution_count": 55,
     "metadata": {},
     "output_type": "execute_result"
    }
   ],
   "source": [
    "dataset.groupby(['labels', 'status_type'])['status_type'].count()"
   ]
  },
  {
   "cell_type": "code",
   "execution_count": null,
   "id": "52a37cd8-42e7-453e-a43d-fd9ade9b976a",
   "metadata": {},
   "outputs": [],
   "source": []
  }
 ],
 "metadata": {
  "kernelspec": {
   "display_name": "Python 3",
   "language": "python",
   "name": "python3"
  },
  "language_info": {
   "codemirror_mode": {
    "name": "ipython",
    "version": 3
   },
   "file_extension": ".py",
   "mimetype": "text/x-python",
   "name": "python",
   "nbconvert_exporter": "python",
   "pygments_lexer": "ipython3",
   "version": "3.8.8"
  }
 },
 "nbformat": 4,
 "nbformat_minor": 5
}
